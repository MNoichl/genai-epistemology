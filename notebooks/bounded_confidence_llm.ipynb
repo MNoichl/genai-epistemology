{
 "cells": [
  {
   "cell_type": "code",
   "execution_count": 2,
   "metadata": {},
   "outputs": [],
   "source": [
    "#to avoid trouble with accelerate later on!\n",
    "#pip uninstall transformer_engine -y"
   ]
  },
  {
   "cell_type": "code",
   "execution_count": 4,
   "metadata": {},
   "outputs": [
    {
     "name": "stdout",
     "output_type": "stream",
     "text": [
      "Tue Nov 28 17:52:21 2023       \n",
      "+---------------------------------------------------------------------------------------+\n",
      "| NVIDIA-SMI 535.104.12             Driver Version: 535.104.12   CUDA Version: 12.2     |\n",
      "|-----------------------------------------+----------------------+----------------------+\n",
      "| GPU  Name                 Persistence-M | Bus-Id        Disp.A | Volatile Uncorr. ECC |\n",
      "| Fan  Temp   Perf          Pwr:Usage/Cap |         Memory-Usage | GPU-Util  Compute M. |\n",
      "|                                         |                      |               MIG M. |\n",
      "|=========================================+======================+======================|\n",
      "|   0  NVIDIA A100-SXM4-40GB          On  | 00000000:4B:00.0 Off |                    0 |\n",
      "| N/A   44C    P0              62W / 400W |  13614MiB / 40960MiB |      0%      Default |\n",
      "|                                         |                      |             Disabled |\n",
      "+-----------------------------------------+----------------------+----------------------+\n",
      "                                                                                         \n",
      "+---------------------------------------------------------------------------------------+\n",
      "| Processes:                                                                            |\n",
      "|  GPU   GI   CI        PID   Type   Process name                            GPU Memory |\n",
      "|        ID   ID                                                             Usage      |\n",
      "|=======================================================================================|\n",
      "|    0   N/A  N/A     13142      G   /usr/libexec/Xorg                             8MiB |\n",
      "|    0   N/A  N/A   2411078      C   /usr/bin/python                           13582MiB |\n",
      "+---------------------------------------------------------------------------------------+\n"
     ]
    }
   ],
   "source": [
    "!nvidia-smi"
   ]
  },
  {
   "cell_type": "markdown",
   "metadata": {},
   "source": [
    "Set up lmql model"
   ]
  },
  {
   "cell_type": "code",
   "execution_count": null,
   "metadata": {},
   "outputs": [],
   "source": [
    "import lmql\n",
    "\n",
    "model = lmql.model(\n",
    "    \"local:HuggingFaceH4/zephyr-7b-alpha\",\n",
    "    device_map = \"auto\",\n",
    "    load_in_8bit=True,\n",
    "    low_cpu_mem_usage=True\n",
    ")\n"
   ]
  },
  {
   "cell_type": "markdown",
   "metadata": {},
   "source": [
    "## LMQL Queries"
   ]
  },
  {
   "cell_type": "code",
   "execution_count": null,
   "metadata": {},
   "outputs": [],
   "source": [
    "@lmql.query\n",
    "async def init(stance, topic, n=1):\n",
    "    '''lmql\n",
    "    sample(temperature=0.9)\n",
    "      \"<|user|>\\n\"\n",
    "      \"# Provide a claim that corresponds to a given stance\\n\\n\"\n",
    "      \"Alice is going to debate '{topic}'.\\n\"\n",
    "      \"For the purpose of the debate, she'll initially adopt a claim that is {stance} {topic}.\\n\\n\"\n",
    "      \"Can you please suggest {n} such claims?\\n\\n\"\n",
    "      \"State each claim in a single sentence, keeping it short an concise. \"\n",
    "      \"Make sure you provide sufficiently diverse claims.\\n\"\n",
    "      \"<|assistant|>\\n\"\n",
    "      \"Alice might defend one of the following claims:\\n\"\n",
    "      claims = []\n",
    "      for _ in range(n):\n",
    "        \"  * \\\"[OPINION]\\\"\\n\" where STOPS_AT(OPINION, \".\") and STOPS_AT(OPINION, \"!\") and STOPS_AT(OPINION, '\"') and len(OPINION)<160\n",
    "        claims.append(OPINION)\n",
    "      return claims\n",
    "    '''\n",
    "\n",
    "\n",
    "@lmql.query\n",
    "async def revise(opinion, peer_opinions, self_confidence, topic):\n",
    "    '''lmql\n",
    "    sample(temperature=0.6)\n",
    "      \"<|user|>\\n\"\n",
    "      \"# Recommend whether and how to revise an opinion\"\n",
    "      \"Alice has been debating '{topic}'.\\n\"\n",
    "      \"She has previously held the following opinion.\\n\\n\"\n",
    "      \"Alice: \\\"{opinion}\\\"\\n\\n\"\n",
    "      \"Now, through debating '{topic}', she has learned that her peers maintain the following views:\\n\"\n",
    "      for peer_opinion in peer_opinions:\n",
    "        \"- {peer_opinion}\\n\"\n",
    "      \"\\n\"\n",
    "      \"Alice considers her peers trustworthy and reliable.\\n\"\n",
    "      \"Alice has {self_confidence} confidence in her previously held opinion and accordingly {self_confidence} resistance to changing her opinion.\\n\\n\"\n",
    "      \"This being said, which opinion will Alice adopt in the future, having heard about her peers' views?\\n\"\n",
    "      \"1. Repeat Alice's previously held opinion.\\n\"\n",
    "      \"2. State Alice's future opinion in a single sentence, keeping it short an concise.\\n\"\n",
    "      \"<|assistant|>\\n\"\n",
    "      \"1. Alice's previous opinion: \\\"{opinion}\\\"\\n\"\n",
    "      \"2. Alice's future opinion: \\\"[REVISION]\" where STOPS_AT(REVISION, \".\") and STOPS_AT(REVISION, \"!\") and STOPS_AT(REVISION, '\"') and len(REVISION)<240\n",
    "    '''\n",
    "\n",
    "#       \"What's a compromise position that balances Alice's opinion and those of her peers? State the compromise in a single sentence, keeping it \"\n",
    "\n",
    "\n",
    "@lmql.query\n",
    "async def agreement(opinion):\n",
    "    '''lmql\n",
    "    argmax\n",
    "      \"<|user|>\\n\"\n",
    "      \"# Assess perceived expertise\\n\\n\"\n",
    "      \"Suppose Alice and Bob are debating 'veganism'.\\n\"\n",
    "      \"They hold the following opinions.\\n\\n\"\n",
    "      \"Alice: It's outright irresponsible to eat meat.\\n\\n\"\n",
    "      \"Bob: {opinion}\\n\\n\"\n",
    "      \"Given these opinions, is Alice prepared to listen to what Bob has to say and take his view into account when revising her beliefs?\\n\"\n",
    "      \"To address this question, let's assess how similar Bob's and Alice's opinions are:\"\n",
    "      \"(A) very similiar\\n\"\n",
    "      \"(B) somewhat similar\\n\"\n",
    "      \"(C) neutral\\n\"\n",
    "      \"(D) somewhat opposing\\n\"\n",
    "      \"(E) strongly opposing\\n\"\n",
    "      \"Just answer with A/B/C/D/E (you'll be asked to explain your answer later on).\"\n",
    "      \"<|assistant|>\\n\"\n",
    "      \"[LABEL]\"\n",
    "    where\n",
    "      LABEL in [\"A\",\"B\",\"C\",\"D\",\"E\"]\n",
    "    '''"
   ]
  },
  {
   "cell_type": "code",
   "execution_count": null,
   "metadata": {},
   "outputs": [],
   "source": [
    "await agreement(\"I think it's ok to eat a nice cheese cake from time to time.\", model=model)"
   ]
  },
  {
   "cell_type": "code",
   "execution_count": null,
   "metadata": {},
   "outputs": [],
   "source": [
    "await agreement(\"I think it's ok to eat a nice burger every day.\", model=model)"
   ]
  },
  {
   "cell_type": "code",
   "execution_count": null,
   "metadata": {},
   "outputs": [],
   "source": [
    "await revise(\n",
    "    opinion=\"It's outright irresponsible to eat meat.\",\n",
    "    peer_opinions=[\n",
    "        \"I think it's ok to eat a nice burger every day.\",\n",
    "        \"I think it's ok to eat a nice cheese cake from time to time.\",\n",
    "    ],\n",
    "    topic=\"veganism\",\n",
    "    self_confidence=\"extremely high\",\n",
    "    model=model\n",
    ")"
   ]
  },
  {
   "cell_type": "code",
   "execution_count": null,
   "metadata": {},
   "outputs": [],
   "source": [
    "await revise(\n",
    "    opinion=\"It's outright irresponsible to eat meat.\",\n",
    "    peer_opinions=[\n",
    "        \"I never eat meat, not even dietary products.\",\n",
    "        \"I think it's ok to eat a nice cheese cake from time to time.\",\n",
    "        \"It's outright irresponsible to eat meat.\",\n",
    "        \"It's outright irresponsible to eat meat.\",\n",
    "    ],\n",
    "    topic=\"veganism\",\n",
    "    self_confidence=\"extremely high\",\n",
    "    model=model\n",
    ")"
   ]
  },
  {
   "cell_type": "code",
   "execution_count": null,
   "metadata": {},
   "outputs": [],
   "source": [
    "await init(\n",
    "    topic=\"veganism\",\n",
    "    stance=\"loosely related to\",\n",
    "    n=3,\n",
    "    model=model\n",
    ")"
   ]
  },
  {
   "cell_type": "code",
   "execution_count": null,
   "metadata": {},
   "outputs": [],
   "source": []
  },
  {
   "cell_type": "markdown",
   "metadata": {},
   "source": [
    "## Skeleton BC Model"
   ]
  },
  {
   "cell_type": "code",
   "execution_count": 7,
   "metadata": {},
   "outputs": [],
   "source": [
    "import copy\n",
    "import numpy as np\n",
    "import random\n",
    "import uuid"
   ]
  },
  {
   "cell_type": "code",
   "execution_count": 8,
   "metadata": {},
   "outputs": [],
   "source": [
    "class AbstractBCAgent():\n",
    "\n",
    "    def __init__(self, initial_opinion, **kwargs):\n",
    "        self.opinion = initial_opinion\n",
    "        self._step = 0\n",
    "        self._parameters = kwargs\n",
    "        self.uid = str(uuid.uuid4())\n",
    "\n",
    "    def update(self, community):\n",
    "        \"\"\"updates agent state\"\"\"\n",
    "        peers = self.peers(community)\n",
    "        opinions = [peer.opinion for peer in peers]\n",
    "        self.opinion = self.revise(opinions)\n",
    "        self._step += 1\n",
    "\n",
    "    def peers(self, community):\n",
    "        \"\"\"returns agents with opinion distance smaller than epsilon\"\"\"\n",
    "        epsilon = self._parameters.get(\"epsilon\", .1)\n",
    "        peers = [\n",
    "            agent for agent in community\n",
    "            if self.distance(agent.opinion) <= epsilon and\n",
    "            agent.uid != self.uid\n",
    "        ]\n",
    "        return peers\n",
    "\n",
    "    def distance(self, opinion):\n",
    "        \"\"\"calculates distance between agent's and other opinion\"\"\"\n",
    "\n",
    "    def revise(self, opinions):\n",
    "        \"\"\"revises agent's opinion given opinions (of peers)\"\"\"\n",
    "\n",
    "    def log_state(self):\n",
    "        \"\"\"agent state for logging\"\"\"\n",
    "        return {\"uid\": self.uid, \"opinion\": self.opinion}\n"
   ]
  },
  {
   "cell_type": "code",
   "execution_count": 9,
   "metadata": {},
   "outputs": [],
   "source": [
    "class EpistemicCommunity():\n",
    "\n",
    "    def __init__(self, agents: list[AbstractBCAgent]):\n",
    "        self.agents = agents\n",
    "        self.logs = []\n",
    "        self.log(0)\n",
    "\n",
    "    def interact(self, max_steps=10):\n",
    "        for step in range(max_steps):\n",
    "            agents_snapshot = copy.deepcopy(self.agents)\n",
    "            for agent in self.agents:\n",
    "                agent.update(agents_snapshot)\n",
    "            self.log(step+1)\n",
    "\n",
    "    def log(self, step):\n",
    "        self.logs.append({\n",
    "            \"step\": step,\n",
    "            \"agents\": [agent.log_state() for agent in self.agents]\n",
    "        })"
   ]
  },
  {
   "cell_type": "markdown",
   "metadata": {},
   "source": [
    "## Numerical BC Model"
   ]
  },
  {
   "cell_type": "code",
   "execution_count": 10,
   "metadata": {},
   "outputs": [],
   "source": [
    "class NumericalBCAgent(AbstractBCAgent):\n",
    "\n",
    "    def distance(self, opinion):\n",
    "        \"\"\"calculates distance between agent's and other opinion\"\"\"\n",
    "        return abs(opinion - self.opinion)\n",
    "\n",
    "    def revise(self, opinions):\n",
    "        \"\"\"revision through weighted opinion averaging\"\"\"\n",
    "        alpha = self._parameters.get(\"alpha\", .5)\n",
    "        revision = alpha * self.opinion + (1-alpha) * np.mean(opinions)\n",
    "        return revision"
   ]
  },
  {
   "cell_type": "code",
   "execution_count": 11,
   "metadata": {},
   "outputs": [],
   "source": [
    "N = 23\n",
    "community = EpistemicCommunity([\n",
    "    NumericalBCAgent(\n",
    "        random.random(),\n",
    "        alpha=.5,\n",
    "        epsilon=.2\n",
    "    ) for _ in range(N)\n",
    "])"
   ]
  },
  {
   "cell_type": "code",
   "execution_count": 12,
   "metadata": {},
   "outputs": [],
   "source": [
    "community.interact()"
   ]
  },
  {
   "cell_type": "code",
   "execution_count": 15,
   "metadata": {},
   "outputs": [],
   "source": [
    "import pandas as pd\n",
    "df_opinions = pd.DataFrame(community.logs).explode([\"agents\"])\n",
    "df_opinions = pd.concat([\n",
    "    df_opinions.step,\n",
    "    df_opinions.agents.apply(pd.Series)\n",
    "], axis=1)"
   ]
  },
  {
   "cell_type": "code",
   "execution_count": 16,
   "metadata": {},
   "outputs": [
    {
     "data": {
      "text/plain": [
       "<Axes: xlabel='step', ylabel='opinion'>"
      ]
     },
     "execution_count": 16,
     "metadata": {},
     "output_type": "execute_result"
    },
    {
     "data": {
      "image/png": "[encoded data removed]",
      "text/plain": [
       "<Figure size 640x480 with 1 Axes>"
      ]
     },
     "metadata": {},
     "output_type": "display_data"
    }
   ],
   "source": [
    "import seaborn as sns\n",
    "\n",
    "sns.lineplot(df_opinions, x=\"step\", y=\"opinion\", hue=\"uid\", legend=False)"
   ]
  },
  {
   "cell_type": "code",
   "execution_count": null,
   "metadata": {},
   "outputs": [],
   "source": []
  }
 ],
 "metadata": {
  "kernelspec": {
   "display_name": "Python 3 (ipykernel)",
   "language": "python",
   "name": "python3"
  },
  "language_info": {
   "codemirror_mode": {
    "name": "ipython",
    "version": 3
   },
   "file_extension": ".py",
   "mimetype": "text/x-python",
   "name": "python",
   "nbconvert_exporter": "python",
   "pygments_lexer": "ipython3",
   "version": "3.10.12"
  }
 },
 "nbformat": 4,
 "nbformat_minor": 2
}
